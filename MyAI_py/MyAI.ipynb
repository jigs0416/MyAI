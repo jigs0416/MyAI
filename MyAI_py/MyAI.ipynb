{
 "cells": [
  {
   "cell_type": "code",
   "execution_count": 3,
   "metadata": {},
   "outputs": [],
   "source": [
    "#pip install openai"
   ]
  },
  {
   "cell_type": "code",
   "execution_count": 1,
   "metadata": {},
   "outputs": [],
   "source": [
    "import openai\n",
    "\n",
    "openai.api_key = open(\"APIkey.txt\", \"r\").read().strip('\\n')"
   ]
  },
  {
   "cell_type": "code",
   "execution_count": 2,
   "metadata": {},
   "outputs": [
    {
     "name": "stdout",
     "output_type": "stream",
     "text": [
      "You are now connected to ChatGPT. Type in your question and press the enter key.\n",
      "Or type in 'quit' to end.\n",
      "\n",
      "Your Question: How big is Canada in Square kilometers?\n",
      "\n",
      "MyAi Answers: Canada has a total area of 9.98 million square kilometers.\n",
      "\n",
      "Goodbye!\n",
      "\n"
     ]
    }
   ],
   "source": [
    "msg_history = []\n",
    "user_question = \"\"\n",
    "\n",
    "def askquestion(question, role=\"user\"):\n",
    "    msg_history.append({\"role\": role, \"content\": question})\n",
    "    completion = openai.ChatCompletion.create(\n",
    "        model=\"gpt-3.5-turbo\",\n",
    "        messages=msg_history\n",
    "    )\n",
    "\n",
    "    ai_reply = completion.choices[0].message.content\n",
    "    msg_history.append({\"role\": \"assistant\", \"content\": ai_reply})\n",
    "    return ai_reply\n",
    "\n",
    "print(\"You are now connected to ChatGPT. Type in your question and press the enter key.\")\n",
    "print(\"Or type in 'quit' to end.\")\n",
    "print()\n",
    "\n",
    "while user_question != \"quit\":    \n",
    "    user_question = input(\">:\")\n",
    "    if user_question != \"quit\":\n",
    "        print(\"Your Question:\", user_question)\n",
    "        print()\n",
    "        print(\"MyAi Answers:\", askquestion(user_question))\n",
    "        print()\n",
    "    else:\n",
    "        print(\"Goodbye!\")\n",
    "        print()"
   ]
  }
 ],
 "metadata": {
  "kernelspec": {
   "display_name": "Python 3",
   "language": "python",
   "name": "python3"
  },
  "language_info": {
   "codemirror_mode": {
    "name": "ipython",
    "version": 3
   },
   "file_extension": ".py",
   "mimetype": "text/x-python",
   "name": "python",
   "nbconvert_exporter": "python",
   "pygments_lexer": "ipython3",
   "version": "3.10.11"
  },
  "orig_nbformat": 4
 },
 "nbformat": 4,
 "nbformat_minor": 2
}
